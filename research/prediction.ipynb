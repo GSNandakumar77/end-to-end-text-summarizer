{
 "cells": [
  {
   "cell_type": "code",
   "execution_count": 4,
   "id": "13e63135",
   "metadata": {},
   "outputs": [
    {
     "data": {
      "text/plain": [
       "'e:\\\\Projects\\\\MLOPS\\\\end-to-end-text-summarizer'"
      ]
     },
     "execution_count": 4,
     "metadata": {},
     "output_type": "execute_result"
    }
   ],
   "source": [
    "import os\n",
    "%pwd\n"
   ]
  },
  {
   "cell_type": "code",
   "execution_count": null,
   "id": "c48c4042",
   "metadata": {},
   "outputs": [
    {
     "name": "stderr",
     "output_type": "stream",
     "text": [
      "e:\\Projects\\MLOPS\\end-to-end-text-summarizer\\summarizer\\Lib\\site-packages\\tqdm\\auto.py:21: TqdmWarning: IProgress not found. Please update jupyter and ipywidgets. See https://ipywidgets.readthedocs.io/en/stable/user_install.html\n",
      "  from .autonotebook import tqdm as notebook_tqdm\n"
     ]
    }
   ],
   "source": [
    "from src.end_to_end_textSummarizer.config.configuration import ConfigurationManager\n",
    "from transformers import AutoTokenizer,AutoModelForSeq2SeqLM\n",
    "from transformers import pipeline\n",
    "\n",
    "\n",
    "class PredictionPipeline:\n",
    "    def __init__(self):\n",
    "        self.config = ConfigurationManager().get_model_evaluation_config()\n",
    "\n",
    "\n",
    "    \n",
    "    def predict(self, text):\n",
    "        print(f\"Model path value: {self.config.model_path}\")\n",
    "        print(f\"Model path type: {type(self.config.model_path)}\")\n",
    "\n",
    "        print(f\"Tokenizer path value: {self.config.tokenizer_path}\")\n",
    "        print(f\"Tokenizer path type: {type(self.config.tokenizer_path)}\")\n",
    "        \n",
    "        # Convert to string if it's a Path object\n",
    "        model_path = str(self.config.model_path)\n",
    "        \n",
    "        # Load model and tokenizer from the same path\n",
    "        tokenizer = AutoTokenizer.from_pretrained(model_path)\n",
    "        model = AutoModelForSeq2SeqLM.from_pretrained(model_path)\n",
    "        \n",
    "        gen_kwargs = {\"length_penalty\": 0.8, \"num_beams\": 8, \"max_length\": 128}\n",
    "        \n",
    "        pipe = pipeline(\"summarization\", model=model, tokenizer=tokenizer)\n",
    "        \n",
    "        print(\"Dialogue:\")\n",
    "        print(text)\n",
    "        \n",
    "        output = pipe(text, **gen_kwargs)[0][\"summary_text\"]\n",
    "        print(\"\\nModel Summary:\")\n",
    "        print(output)\n",
    "        \n",
    "        return output\n"
   ]
  },
  {
   "cell_type": "code",
   "execution_count": null,
   "id": "58b281f7",
   "metadata": {},
   "outputs": [],
   "source": []
  }
 ],
 "metadata": {
  "kernelspec": {
   "display_name": "Python 3",
   "language": "python",
   "name": "python3"
  },
  "language_info": {
   "codemirror_mode": {
    "name": "ipython",
    "version": 3
   },
   "file_extension": ".py",
   "mimetype": "text/x-python",
   "name": "python",
   "nbconvert_exporter": "python",
   "pygments_lexer": "ipython3",
   "version": "3.13.7"
  }
 },
 "nbformat": 4,
 "nbformat_minor": 5
}
